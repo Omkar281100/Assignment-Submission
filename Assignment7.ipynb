{
  "nbformat": 4,
  "nbformat_minor": 0,
  "metadata": {
    "colab": {
      "name": "Assignment7.ipynb",
      "provenance": [],
      "authorship_tag": "ABX9TyNYSxTqLuxlObn6D9hffCy4",
      "include_colab_link": true
    },
    "kernelspec": {
      "name": "python3",
      "display_name": "Python 3"
    },
    "language_info": {
      "name": "python"
    }
  },
  "cells": [
    {
      "cell_type": "markdown",
      "metadata": {
        "id": "view-in-github",
        "colab_type": "text"
      },
      "source": [
        "<a href=\"https://colab.research.google.com/github/Omkar281100/Assignment-Submission/blob/main/Assignment7.ipynb\" target=\"_parent\"><img src=\"https://colab.research.google.com/assets/colab-badge.svg\" alt=\"Open In Colab\"/></a>"
      ]
    },
    {
      "cell_type": "code",
      "source": [
        "pip install mysql"
      ],
      "metadata": {
        "colab": {
          "base_uri": "https://localhost:8080/"
        },
        "id": "gWIJsV-D_ke0",
        "outputId": "8a3fcac4-4b11-43ec-ee74-56d3e01fba22"
      },
      "execution_count": 2,
      "outputs": [
        {
          "output_type": "stream",
          "name": "stdout",
          "text": [
            "Collecting mysql\n",
            "  Downloading mysql-0.0.3-py3-none-any.whl (1.2 kB)\n",
            "Collecting mysqlclient\n",
            "  Downloading mysqlclient-2.1.0.tar.gz (87 kB)\n",
            "\u001b[K     |████████████████████████████████| 87 kB 3.8 MB/s \n",
            "\u001b[?25hBuilding wheels for collected packages: mysqlclient\n",
            "  Building wheel for mysqlclient (setup.py) ... \u001b[?25l\u001b[?25hdone\n",
            "  Created wheel for mysqlclient: filename=mysqlclient-2.1.0-cp37-cp37m-linux_x86_64.whl size=99968 sha256=e86ea2c134510385eef34d18857fa9a7d168c1bfc86133e1ee4ab203b22090ea\n",
            "  Stored in directory: /root/.cache/pip/wheels/97/d4/df/08cd6e1fa4a8691b268ab254bd0fa589827ab5b65638c010b4\n",
            "Successfully built mysqlclient\n",
            "Installing collected packages: mysqlclient, mysql\n",
            "Successfully installed mysql-0.0.3 mysqlclient-2.1.0\n"
          ]
        }
      ]
    },
    {
      "cell_type": "code",
      "execution_count": null,
      "metadata": {
        "id": "8191CR05_TbQ"
      },
      "outputs": [],
      "source": [
        "# Day 7 Assignment - Python Database Connection Project which updates any one value in the table and select all the table data and print it.\n",
        "\n",
        "import mysql.connector as sql           # importing module\n",
        "\n",
        "# Connecting the local mysql database\n",
        "database = sql.connect(host = 'localhost', user = 'root', passwd = 'ferrari458', database = 'schooldata')\n",
        "\n",
        "cur = database.cursor()\n",
        "\n",
        "\n",
        "cur.execute(\"update student set Eng_mark = 80 where Roll_no = 122\")     # Update the record \n",
        "cur.execute(\"select * from student\")        # View the table\n",
        "\n",
        "for i in cur:\n",
        "    print(i)\n",
        "\n",
        "cur.close()\n",
        "database.commit()       # commit changes or save changes."
      ]
    },
    {
      "cell_type": "code",
      "source": [
        ""
      ],
      "metadata": {
        "id": "9_IMwj0b_tfg"
      },
      "execution_count": null,
      "outputs": []
    }
  ]
}