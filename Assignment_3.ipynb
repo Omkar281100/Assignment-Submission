{
  "nbformat": 4,
  "nbformat_minor": 0,
  "metadata": {
    "colab": {
      "name": "Assignment 3.ipynb",
      "provenance": [],
      "authorship_tag": "ABX9TyNKa/fVRK/A3FiCWQl6X3pQ",
      "include_colab_link": true
    },
    "kernelspec": {
      "name": "python3",
      "display_name": "Python 3"
    },
    "language_info": {
      "name": "python"
    }
  },
  "cells": [
    {
      "cell_type": "markdown",
      "metadata": {
        "id": "view-in-github",
        "colab_type": "text"
      },
      "source": [
        "<a href=\"https://colab.research.google.com/github/Omkar281100/Assignment-Submission/blob/main/Assignment_3.ipynb\" target=\"_parent\"><img src=\"https://colab.research.google.com/assets/colab-badge.svg\" alt=\"Open In Colab\"/></a>"
      ]
    },
    {
      "cell_type": "code",
      "execution_count": null,
      "metadata": {
        "id": "Di0xHsXyRASm"
      },
      "outputs": [],
      "source": [
        "\n",
        "# Day 3 Assignment:\n",
        "\n",
        "# Define a function which will take a number as argument and return its factorial.\n",
        "\n",
        "# Call the function to print factorial of any number(integer).\n",
        "\n",
        "\n",
        "def factorial(num):\n",
        "    factorial = 1    \n",
        "    if num < 0:    \n",
        "        print(\" Factorial does not exist for negative numbers\")    \n",
        "    elif num == 0:    \n",
        "        print(\"The factorial of 0 is 1\")    \n",
        "    else:    \n",
        "        for i in range(1,num + 1):    \n",
        "            factorial = factorial*i    \n",
        "        print(\"The factorial of\",num,\"is\",factorial)    \n",
        "\n",
        "\n",
        "num = int(input(\"Enter a number: \"))\n",
        "factorial(num)"
      ]
    }
  ]
}