{
  "nbformat": 4,
  "nbformat_minor": 0,
  "metadata": {
    "colab": {
      "name": "Assignment 2.ipynb",
      "provenance": [],
      "authorship_tag": "ABX9TyOzdyuPOEFVQns5a8yqn7qI",
      "include_colab_link": true
    },
    "kernelspec": {
      "name": "python3",
      "display_name": "Python 3"
    },
    "language_info": {
      "name": "python"
    }
  },
  "cells": [
    {
      "cell_type": "markdown",
      "metadata": {
        "id": "view-in-github",
        "colab_type": "text"
      },
      "source": [
        "<a href=\"https://colab.research.google.com/github/Omkar281100/Assignment-Submission/blob/main/Assignment_2.ipynb\" target=\"_parent\"><img src=\"https://colab.research.google.com/assets/colab-badge.svg\" alt=\"Open In Colab\"/></a>"
      ]
    },
    {
      "cell_type": "code",
      "execution_count": 2,
      "metadata": {
        "colab": {
          "base_uri": "https://localhost:8080/"
        },
        "id": "y576V9eRvITH",
        "outputId": "7d8fde64-3ade-4bf2-d645-4ebbb9ba331c"
      },
      "outputs": [
        {
          "output_type": "stream",
          "name": "stdout",
          "text": [
            "H\n",
            "Choose correct character of word Hello Coders to win the lottery\n",
            " e\n",
            "Congrats , u are winner\n"
          ]
        }
      ],
      "source": [
        "lottery=\"Hello Coders\"\n",
        "print(lottery[0])\n",
        "print(\"Choose correct character of word\",lottery,\"to win the lottery\")\n",
        "inputs= input(\" \").lower()\n",
        "if inputs == lottery[0] or inputs ==lottery[1] or inputs ==lottery[4] or inputs ==lottery[6] or inputs==lottery[8]:\n",
        "  print(\"Congrats , u are winner\")\n",
        "else:\n",
        "  print(\"Sorry better luck next time\")"
      ]
    },
    {
      "cell_type": "code",
      "source": [
        ""
      ],
      "metadata": {
        "id": "XvwceqqRv6uk"
      },
      "execution_count": null,
      "outputs": []
    }
  ]
}