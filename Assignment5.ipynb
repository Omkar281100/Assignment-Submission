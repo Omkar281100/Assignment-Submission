{
  "nbformat": 4,
  "nbformat_minor": 0,
  "metadata": {
    "colab": {
      "name": "Assignment5.ipynb",
      "provenance": [],
      "authorship_tag": "ABX9TyP3o9NCp4ziL5DP7fROF+Jf",
      "include_colab_link": true
    },
    "kernelspec": {
      "name": "python3",
      "display_name": "Python 3"
    },
    "language_info": {
      "name": "python"
    }
  },
  "cells": [
    {
      "cell_type": "markdown",
      "metadata": {
        "id": "view-in-github",
        "colab_type": "text"
      },
      "source": [
        "<a href=\"https://colab.research.google.com/github/Omkar281100/Assignment-Submission/blob/main/Assignment5.ipynb\" target=\"_parent\"><img src=\"https://colab.research.google.com/assets/colab-badge.svg\" alt=\"Open In Colab\"/></a>"
      ]
    },
    {
      "cell_type": "code",
      "execution_count": 1,
      "metadata": {
        "colab": {
          "base_uri": "https://localhost:8080/"
        },
        "id": "wNzEqH_KQW3Y",
        "outputId": "d36d18d1-f0c0-41e2-b725-b97b5111fbbb"
      },
      "outputs": [
        {
          "output_type": "stream",
          "name": "stdout",
          "text": [
            "[3, 6, 9, 12, 15, 18, 21, 24, 27, 30, 33, 36, 39, 42, 45, 48, 51, 54, 57, 60, 63, 66, 69, 72, 75, 78, 81, 84, 87, 90, 93, 96, 99] This number only divisible by 3 in 1-100 number \n",
            "\n",
            "[5, 10, 15, 20, 25, 30, 35, 40, 45, 50, 55, 60, 65, 70, 75, 80, 85, 90, 95] This number only divisible by 5 in 1-100 number \n"
          ]
        }
      ],
      "source": [
        "# Assignment5: Use filter function to filter out the elements from a list that are divisible by 3 & 5 ??\n",
        "\n",
        "my_list = list(range(1,100))\n",
        "  \n",
        "result3 = list(filter(lambda x: (x % 3 == 0), my_list)) \n",
        "result5 = list(filter(lambda x: (x % 5 == 0), my_list)) \n",
        "  \n",
        "print(result3,\"This number only divisible by 3 in 1-100 number \\n\") \n",
        "print(result5,\"This number only divisible by 5 in 1-100 number \") "
      ]
    }
  ]
}