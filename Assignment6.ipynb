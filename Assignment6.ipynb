{
  "nbformat": 4,
  "nbformat_minor": 0,
  "metadata": {
    "colab": {
      "name": "Assignment3.ipynb",
      "provenance": [],
      "authorship_tag": "ABX9TyPkqpQbkDOH/8PrpHZ9HfOx",
      "include_colab_link": true
    },
    "kernelspec": {
      "name": "python3",
      "display_name": "Python 3"
    },
    "language_info": {
      "name": "python"
    }
  },
  "cells": [
    {
      "cell_type": "markdown",
      "metadata": {
        "id": "view-in-github",
        "colab_type": "text"
      },
      "source": [
        "<a href=\"https://colab.research.google.com/github/Omkar281100/Assignment-Submission/blob/main/Assignment6.ipynb\" target=\"_parent\"><img src=\"https://colab.research.google.com/assets/colab-badge.svg\" alt=\"Open In Colab\"/></a>"
      ]
    },
    {
      "cell_type": "code",
      "execution_count": 1,
      "metadata": {
        "colab": {
          "base_uri": "https://localhost:8080/"
        },
        "id": "v1DfPykuPJI-",
        "outputId": "b793dc94-c350-4da2-f0c5-0b2d53cb05a6"
      },
      "outputs": [
        {
          "output_type": "stream",
          "name": "stdout",
          "text": [
            "Enter two Nunbers: 2\n",
            "Enter two Nunbers: 3\n",
            "2 3\n",
            "1\n"
          ]
        }
      ],
      "source": [
        "# Day 6 Assignment : Floor divison of any two number by using Decorators.\n",
        "\n",
        "def decorators(fun):\n",
        "\tdef deno(num1, num2):\n",
        "\t\tif num1 < num2 :\n",
        "\t\t\tnum1, num2 = num2, num1\n",
        "\t\treturn fun(num1, num2)\n",
        "\treturn deno\n",
        "\t\n",
        "@decorators\n",
        "def div(num1, num2):\n",
        "\treturn  num1 // num2\n",
        "\n",
        "num1 =int(input(\"Enter two Nunbers: \"))\n",
        "num2 =int(input(\"Enter two Nunbers: \"))\n",
        "print(num1,num2)\n",
        "\n",
        "\n",
        "print(div(num1, num2))"
      ]
    }
  ]
}