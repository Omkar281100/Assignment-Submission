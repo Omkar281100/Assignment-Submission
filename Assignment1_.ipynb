{
  "nbformat": 4,
  "nbformat_minor": 0,
  "metadata": {
    "colab": {
      "name": "Assignment1 .ipynb",
      "provenance": [],
      "collapsed_sections": [],
      "authorship_tag": "ABX9TyOEGtLt7Mpng8kroGuKi1Np",
      "include_colab_link": true
    },
    "kernelspec": {
      "name": "python3",
      "display_name": "Python 3"
    },
    "language_info": {
      "name": "python"
    }
  },
  "cells": [
    {
      "cell_type": "markdown",
      "metadata": {
        "id": "view-in-github",
        "colab_type": "text"
      },
      "source": [
        "<a href=\"https://colab.research.google.com/github/Omkar281100/Assignment-Submission/blob/main/Assignment1_.ipynb\" target=\"_parent\"><img src=\"https://colab.research.google.com/assets/colab-badge.svg\" alt=\"Open In Colab\"/></a>"
      ]
    },
    {
      "cell_type": "code",
      "execution_count": 2,
      "metadata": {
        "colab": {
          "base_uri": "https://localhost:8080/"
        },
        "id": "zkM1mTz_n3hu",
        "outputId": "d76a2fa7-71c6-4a70-8db1-f3b8502f3ee9"
      },
      "outputs": [
        {
          "output_type": "stream",
          "name": "stdout",
          "text": [
            "Enter int values10 20 30\n",
            "[10, 20, 30]\n",
            "Sum of the numbers:  60\n"
          ]
        }
      ],
      "source": [
        "# take multiple numbers as input and print the sum\n",
        "x= [int(i)for i in input(\"Enter int values\").split()]\n",
        "print(x)\n",
        "s = 0\n",
        "for j in x:\n",
        "  s +=j #sum=sum+j\n",
        "\n",
        "print(\"Sum of the numbers: \",s)\n",
        "\n",
        "\n"
      ]
    },
    {
      "cell_type": "code",
      "source": [
        "#another way\n",
        "from functools import reduce\n",
        "x= [int(i)for i in input(\"Enter int values\").split()]\n",
        "res = reduce(lambda a,b: a+b,x)\n",
        "print(res)"
      ],
      "metadata": {
        "colab": {
          "base_uri": "https://localhost:8080/"
        },
        "id": "c8CBP4qfpIgq",
        "outputId": "016df1ac-8659-4a8c-b748-c89378b657df"
      },
      "execution_count": 3,
      "outputs": [
        {
          "output_type": "stream",
          "name": "stdout",
          "text": [
            "Enter int values10 20 30\n",
            "60\n"
          ]
        }
      ]
    },
    {
      "cell_type": "code",
      "source": [
        "#another way\n",
        "x= x= [int(i)for i in input(\"Enter int values\").split()]\n",
        "\n",
        "print(sum(x))"
      ],
      "metadata": {
        "colab": {
          "base_uri": "https://localhost:8080/"
        },
        "id": "99cOUtdipi4A",
        "outputId": "764c2c5b-4282-4d35-e990-a5477f6904ff"
      },
      "execution_count": 1,
      "outputs": [
        {
          "output_type": "stream",
          "name": "stdout",
          "text": [
            "Enter int values10 20 30\n",
            "60\n"
          ]
        }
      ]
    },
    {
      "cell_type": "code",
      "source": [
        ""
      ],
      "metadata": {
        "id": "kwkB7cMfp0ZJ"
      },
      "execution_count": 3,
      "outputs": []
    }
  ]
}